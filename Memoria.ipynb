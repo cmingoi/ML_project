{
 "cells": [
  {
   "cell_type": "markdown",
   "metadata": {},
   "source": [
    "## Memoria del Proyecto de Predicción de Tiempos de Entrega"
   ]
  },
  {
   "cell_type": "markdown",
   "metadata": {},
   "source": [
    "### I. Objetivo del Proyecto\n",
    "\n",
    "El objetivo de este proyecto es predecir los tiempos de entrega basados en varios factores como las condiciones meteorológicas, la densidad del tráfico y los volúmenes de pedidos, permitiendo una gestión proactiva de las operaciones de entrega."
   ]
  },
  {
   "cell_type": "markdown",
   "metadata": {},
   "source": [
    "### II. Descripción del Dataset\n",
    "\n",
    "El dataset incluye las siguientes características:\n",
    "\n",
    "- ID: Identificador único para cada entrega.\n",
    "- Delivery_person_ID: Identificador único para cada repartidor.\n",
    "- Delivery_person_Age: Edad del repartidor.\n",
    "- Delivery_person_Ratings: Calificaciones asignadas al repartidor.\n",
    "- Restaurant_latitude: Latitud del restaurante.\n",
    "- Restaurant_longitude: Longitud del restaurante.\n",
    "- Delivery_location_latitude: Latitud del lugar de entrega.\n",
    "- Delivery_location_longitude: Longitud del lugar de entrega.\n",
    "- Order_Date: Fecha del pedido.\n",
    "- Time_Ordered: Hora en que se realizó el pedido.\n",
    "- Time_Order_picked: Hora en que se recogió el pedido para la entrega.\n",
    "- Weather_conditions: Condiciones meteorológicas en el momento de la entrega.\n",
    "- Road_traffic_density: Densidad del tráfico en carretera durante la entrega.\n",
    "- Vehicle_condition: Condición del vehículo de entrega.\n",
    "- Type_of_order: Tipo de pedido (por ejemplo, para comer en el lugar, para llevar, entrega).\n",
    "- Type_of_vehicle: Tipo de vehículo utilizado para la entrega.\n",
    "- Multiple_deliveries: Indicador de si se realizaron múltiples entregas en el mismo viaje.\n",
    "- Festival: Indicador de si la entrega coincidió con un festival.\n",
    "- City: Ciudad donde se realizó la entrega.\n",
    "- Time_taken (min): Tiempo tomado para la entrega en minutos."
   ]
  },
  {
   "cell_type": "markdown",
   "metadata": {},
   "source": [
    "- El dataset contiene 45584 registros.\n",
    "\n",
    "- Algunas columnas tienen valores nulos (e.g., Delivery_person_Age, Delivery_person_Ratings).\n",
    "\n",
    "- El dataset incluye tanto variables numéricas como categóricas, lo que requerirá diferentes técnicas de preprocesamiento para cada tipo de variable."
   ]
  },
  {
   "cell_type": "markdown",
   "metadata": {},
   "source": [
    "### III. Preprocesamiento de los datos\n",
    "\n",
    "- Manejo de Valores Nulos\n",
    "\n",
    "Eliminamos las filas con valores nulos para asegurar la calidad de los datos.\n",
    "\n",
    "- Conversión de Tipos de Datos\n",
    "\n",
    "Convertimos las columnas de fecha y hora de object a tipos datetime para facilitar su manipulación.\n",
    "\n",
    "- Calcular Distancias\n",
    "\n",
    "Usamos la fórmula de Haversine para calcular la distancia entre el restaurante y la ubicación de entrega.\n",
    "\n",
    "- Crear Nuevas Características\n",
    "\n",
    "Creamos nuevas columnas derivadas de las existentes para enriquecer el análisis y el modelado.\n",
    "\n",
    "- Codificación de Variables Categóricas\n",
    "\n",
    "Convertimos las variables categóricas a variables numéricas mediante codificación.\n",
    "\n",
    "- Eliminar Columnas Irrelevantes\n",
    "\n",
    "Eliminamos columnas que no son relevantes para el modelo de predicción."
   ]
  },
  {
   "cell_type": "markdown",
   "metadata": {},
   "source": [
    "### IV. Análisis Exploratorio \n",
    "\n",
    "Durante el EDA, se aplicaron diversas técnicas para entender mejor las características del dataset y preparar los datos para el modelado. A continuación se detallan los pasos realizados:\n",
    "\n",
    "- **Escalado de Variables**\n",
    "\n",
    "El escalado de variables es crucial para asegurar que todas las características contribuyan de manera equitativa al modelo, especialmente aquellas con diferentes unidades o rangos. Se utilizó el StandardScaler de scikit-learn para escalar las variables numéricas a un rango estándar con media 0 y desviación estándar 1.\n",
    "\n",
    "- **Análisis de Importancia de Variables**\n",
    "\n",
    "Se emplearon varias técnicas para evaluar la importancia de las variables y su relación con el target:\n",
    "\n",
    "Feature Importance con Random Forest:\n",
    "\n",
    "Se entrenó un modelo de Random Forest para identificar las características más importantes basándose en su capacidad para reducir la impureza en los árboles de decisión.\n",
    "\n",
    "- **Eliminación de Variables Irrelevantes**\n",
    "\n",
    "Basado en el análisis de importancia y correlación, se eliminaron las variables que mostraron tener poco o ningún impacto en el target. Este paso es crucial para simplificar el modelo y mejorar su rendimiento, eliminando el ruido y la redundancia.\n",
    "\n",
    "- **Medición de Correlación con Heatmap**\n",
    "\n",
    "Se utilizó un heatmap para visualizar la correlación entre las variables y el target. El heatmap ayudó a identificar variables altamente correlacionadas, permitiendo la eliminación de redundancias y mejorando la interpretabilidad del modelo.\n",
    "\n",
    "- **Visualización de Datos**\n",
    "\n",
    "Se diseñaron varias gráficas para explorar y entender mejor las distribuciones y relaciones en los datos:\n",
    "\n",
    "- Histogramas\n",
    "- Diagramas de Dispersión\n",
    "- Análisis en Power BI\n",
    "\n",
    "Se llevó a cabo un análisis exhaustivo utilizando Power BI para aprovechar sus capacidades de visualización interactiva. Esto permitió explorar los datos de manera más dinámica y presentar insights de manera efectiva a los interesados. En Power BI, se crearon dashboards interactivos que incluían:\n",
    "\n",
    "- Gráficos de Barras y Columnas: Para comparar categorías como el tipo de vehículo y la densidad del tráfico.\n",
    "- Gráficos de Líneas: Para analizar las tendencias a lo largo del tiempo.\n",
    "- Mapas Geográficos: Para visualizar la distribución geográfica de las entregas."
   ]
  },
  {
   "cell_type": "markdown",
   "metadata": {},
   "source": [
    "### V. Modelos \n",
    "\n",
    "\n",
    "Para abordar el problema de predicción de tiempos de entrega, se probaron dos modelos de regresión diferentes: Random Forest Regressor y XGBoost Regressor. Ambos modelos son conocidos por su eficacia en problemas de regresión debido a su capacidad para manejar grandes cantidades de datos y capturar relaciones complejas entre las variables.\n",
    "\n",
    "- **Random Forest Regressor**\n",
    "\n",
    "El modelo de Random Forest se basa en la construcción de múltiples árboles de decisión durante el entrenamiento y la salida de la media de las predicciones de los árboles individuales. Este enfoque ayuda a mejorar la precisión y controlar el sobreajuste.\n",
    "\n",
    "- **XGBoost Regressor**\n",
    "\n",
    "XGBoost es un algoritmo de boosting que convierte los modelos débiles en fuertes. Este modelo se construye de manera secuencial, donde cada nuevo modelo intenta corregir los errores de los modelos anteriores. XGBoost es conocido por su eficiencia y rendimiento en competiciones de machine learning.\n",
    "\n",
    "- **Optimización con GridSearch**\n",
    "\n",
    "Ambos modelos fueron optimizados utilizando GridSearch para encontrar los mejores hiperparámetros. GridSearch es una técnica que realiza una búsqueda exhaustiva sobre un conjunto especificado de valores de hiperparámetros. Se entrenaron y evaluaron múltiples combinaciones de hiperparámetros para identificar la configuración que ofrece el mejor rendimiento.\n",
    "\n",
    "**Resultados**\n",
    "\n",
    "El mejor rendimiento se obtuvo con el modelo Random Forest Regressor. A continuación, se presentan los resultados del rendimiento del modelo en los conjuntos de entrenamiento y prueba:\n",
    "\n",
    "- Mean Absolute Error (MAE) en el entrenamiento: 2.585\n",
    "- Mean Absolute Percentage Error (MAPE) en el entrenamiento: 0.111\n",
    "- Mean Absolute Error (MAE) en la prueba: 3.056\n",
    "- Mean Absolute Percentage Error (MAPE) en la prueba: 0.130\n",
    "\n",
    "Estos resultados indican que el modelo de Random Forest tiene un buen rendimiento en términos de precisión absoluta y relativa tanto en el conjunto de entrenamiento como en el de prueba. Aunque se observó un ligero aumento en el error en el conjunto de prueba, el modelo sigue siendo robusto y preciso para la predicción de tiempos de entrega.\n",
    "\n",
    "**Conclusión**\n",
    "\n",
    "El uso de modelos de regresión avanzados como Random Forest y XGBoost, junto con la optimización de hiperparámetros mediante GridSearch, permitió desarrollar un modelo eficaz para predecir los tiempos de entrega. El modelo de Random Forest Regressor mostró el mejor rendimiento general, lo que lo hace adecuado para su implementación en la gestión proactiva de operaciones de entrega."
   ]
  }
 ],
 "metadata": {
  "kernelspec": {
   "display_name": "Python 3",
   "language": "python",
   "name": "python3"
  },
  "language_info": {
   "codemirror_mode": {
    "name": "ipython",
    "version": 3
   },
   "file_extension": ".py",
   "mimetype": "text/x-python",
   "name": "python",
   "nbconvert_exporter": "python",
   "pygments_lexer": "ipython3",
   "version": "3.12.2"
  }
 },
 "nbformat": 4,
 "nbformat_minor": 2
}
